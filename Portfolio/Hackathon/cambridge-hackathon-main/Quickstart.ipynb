{
 "cells": [
  {
   "attachments": {},
   "cell_type": "markdown",
   "id": "26a39251-cf46-4917-b8b4-89ae0ad5a060",
   "metadata": {},
   "source": [
    "# Get Voices"
   ]
  },
  {
   "cell_type": "code",
   "execution_count": 1,
   "id": "dc02797a",
   "metadata": {},
   "outputs": [],
   "source": [
    "from pyneuphonic import Neuphonic, TTSConfig, Agent\n",
    "from pyneuphonic.player import AudioPlayer\n",
    "\n",
    "# PLACE YOUR API KEY HERE\n",
    "api_key = \"67e2515e393a8a7634c683985fc58185581ec95b2679488f56d907c0a2552cb6.ce7b9e40-8ae1-450e-9cc7-0df75cce29cf\" # GET THIS FROM beta.neuphonic.com!!!!!!!!!"
   ]
  },
  {
   "cell_type": "code",
   "execution_count": null,
   "id": "9a37179c-23a7-4741-871f-0665cc4c51d7",
   "metadata": {},
   "outputs": [],
   "source": [
    "client = Neuphonic(api_key=api_key)\n",
    "response = client.voices.list()  # get's all available voices\n",
    "voices = response.data['voices']\n",
    "\n",
    "voices"
   ]
  },
  {
   "attachments": {},
   "cell_type": "markdown",
   "id": "d7873904-d588-418f-a742-8d4f7b9c26a7",
   "metadata": {},
   "source": [
    "# Text To Speech\n",
    "The following example demonstrates how to perform text-to-speech.\n",
    "It also shows how to adjust speech parameters using `TTSConfig`."
   ]
  },
  {
   "cell_type": "code",
   "execution_count": 4,
   "id": "69b7d226-bd6a-4050-97a8-929068eb4c23",
   "metadata": {},
   "outputs": [],
   "source": [
    "client = Neuphonic(api_key=api_key)\n",
    "\n",
    "sse = client.tts.SSEClient()\n",
    "\n",
    "# TTSConfig is a pydantic model so check out the source code for all valid options\n",
    "tts_config = TTSConfig(\n",
    "    model='neu_hq',\n",
    "    speed=1.05,\n",
    "    voice='e564ba7e-aa8d-46a2-96a8-8dffedade48f'  # use client.voices.get() to view all voice ids\n",
    ")\n",
    "\n",
    "# Create an audio player with `pyaudio`\n",
    "with AudioPlayer() as player:\n",
    "    response = sse.send('Hello, world!', tts_config=tts_config)\n",
    "    player.play(response)"
   ]
  },
  {
   "cell_type": "markdown",
   "id": "e709aa84",
   "metadata": {},
   "source": [
    "### Altering Speech Parameters\n",
    "The above example demonstrates text to speech functionality. You can use the `TTSConfig` model to \n",
    "amend the speech parameters. Here is an example where we use a different model, and voice."
   ]
  },
  {
   "cell_type": "code",
   "execution_count": 5,
   "id": "c43f5115",
   "metadata": {},
   "outputs": [],
   "source": [
    "# Note the different model and voice\n",
    "tts_config = TTSConfig(\n",
    "    model='neu_fast',\n",
    "    voice='8e9c4bc8-3979-48ab-8626-df53befc2090'\n",
    ")\n",
    "\n",
    "# Create an audio player with `pyaudio`\n",
    "with AudioPlayer() as player:\n",
    "    response = sse.send('Hello, world!', tts_config=tts_config)\n",
    "    player.play(response)"
   ]
  },
  {
   "attachments": {},
   "cell_type": "markdown",
   "id": "7c417d51-5c88-4ed0-8905-dc416a5171db",
   "metadata": {},
   "source": [
    "# Agents (Chatbot)"
   ]
  },
  {
   "cell_type": "markdown",
   "id": "bbbb16bc",
   "metadata": {},
   "source": [
    "Run the example below to create an agent that will greet you and initiate a voice conversation. \n",
    "Speak back to it to initiate a response.\n",
    "\n",
    "1. Speak into the microphone, and the system will transcribe your speech in real time.\n",
    "2. The transcribed text is sent to the LLM to generate a response.\n",
    "3. The response is converted to speech using the TTS module and played back to you.\n",
    "4. Repeat the process to continue the conversation."
   ]
  },
  {
   "cell_type": "code",
   "execution_count": null,
   "id": "172908f2-d200-455d-96fc-9cd5d84677c5",
   "metadata": {},
   "outputs": [
    {
     "name": "stdout",
     "output_type": "stream",
     "text": [
      "User: I interrupted it ages ago.\n",
      "Agent: Apologies for any misunderstanding. I'm here whenever you need assistance.\n"
     ]
    }
   ],
   "source": [
    "client = Neuphonic(api_key=api_key)\n",
    "\n",
    "agent_id = client.agents.create(\n",
    "    name='Agent 1',\n",
    "    prompt='You are a helpful agent. Answer in 10 words or less.',\n",
    "    greeting='Hi, how can I help you today?'\n",
    ").data['id']\n",
    "\n",
    "agent = Agent(client, agent_id=agent_id, tts_model='neu_hq')\n",
    "\n",
    "await agent.start()"
   ]
  },
  {
   "cell_type": "markdown",
   "id": "4d11bf2a",
   "metadata": {},
   "source": [
    "Note: To stop the above cell, you will need to either restart the Jupyter server or terminate the Jupyter server process."
   ]
  },
  {
   "cell_type": "markdown",
   "id": "544c066f",
   "metadata": {},
   "source": [
    "## Toothbrush!: An AI Neurodivergence Mentor\n",
    "Toothbrush is a personal mentor for people with (or identifying with) neurodivergent diagnoses, such as Autism or AD(H)D.\n",
    "\n",
    "\n",
    "- Open: Create profile;\n",
    "-- What's your Name?\n",
    "-- > Name\n",
    "-- What Neurodivergent diagnosis do you have, or identify with?\n",
    "-- > Neurodivergence(s)\n",
    "- Ways I can help\n",
    "-- "
   ]
  },
  {
   "cell_type": "code",
   "execution_count": null,
   "id": "2a4049ba",
   "metadata": {},
   "outputs": [],
   "source": []
  }
 ],
 "metadata": {
  "kernelspec": {
   "display_name": "toothbrush",
   "language": "python",
   "name": "python3"
  },
  "language_info": {
   "codemirror_mode": {
    "name": "ipython",
    "version": 3
   },
   "file_extension": ".py",
   "mimetype": "text/x-python",
   "name": "python",
   "nbconvert_exporter": "python",
   "pygments_lexer": "ipython3",
   "version": "3.13.1"
  }
 },
 "nbformat": 4,
 "nbformat_minor": 5
}
