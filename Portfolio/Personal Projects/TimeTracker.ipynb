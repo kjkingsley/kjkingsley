{
 "cells": [
  {
   "cell_type": "markdown",
   "metadata": {},
   "source": [
    "**Productivity Tracker**\n",
    "\n",
    "Goal: to develop a simple time-block check-in tool and productivity visualisation.\n",
    "\n",
    "E.g., using Flask +/ Dash combined with simple data entry (.csv?)\n",
    "\n",
    "Want to be able to easily portion out time into time blocks given to: cultivation, self-study, career-tasks, hobbies... \n",
    "And then visualise productivity vs benchmarks (worthy of rewarding!) -\n",
    "i.e., \"Connect 4\" style towers to achieve weekly? Max. Total blocks = 5x8 = 40, with minimum goals for each?"
   ]
  },
  {
   "cell_type": "code",
   "execution_count": null,
   "metadata": {},
   "outputs": [],
   "source": []
  }
 ],
 "metadata": {
  "language_info": {
   "name": "python"
  }
 },
 "nbformat": 4,
 "nbformat_minor": 2
}
