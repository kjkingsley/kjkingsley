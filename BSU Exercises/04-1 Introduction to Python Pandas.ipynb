{
 "cells": [
  {
   "attachments": {},
   "cell_type": "markdown",
   "metadata": {},
   "source": [
    "### Task 1 - Installing and Importing Modules (Pandas)"
   ]
  },
  {
   "attachments": {},
   "cell_type": "markdown",
   "metadata": {},
   "source": [
    "##### 1. Write a command to install the pandas library in your environment.\n",
    "\n",
    "Note: It’s important to install pandas because it provides data structures and data analysis tools for the Python programming language.\n",
    "\n",
    "Python raw would not need the % or !\n",
    "Depending on the verison of Jupyter Notebook a % or ! will be needed"
   ]
  },
  {
   "cell_type": "code",
   "execution_count": 1,
   "metadata": {},
   "outputs": [
    {
     "name": "stdout",
     "output_type": "stream",
     "text": [
      "Defaulting to user installation because normal site-packages is not writeableNote: you may need to restart the kernel to use updated packages.\n",
      "\n",
      "Collecting pandas\n",
      "  Using cached pandas-2.2.1-cp312-cp312-win_amd64.whl.metadata (19 kB)\n",
      "Collecting numpy<2,>=1.26.0 (from pandas)\n",
      "  Using cached numpy-1.26.4-cp312-cp312-win_amd64.whl.metadata (61 kB)\n",
      "Requirement already satisfied: python-dateutil>=2.8.2 in c:\\users\\kings\\appdata\\roaming\\python\\python312\\site-packages (from pandas) (2.9.0.post0)\n",
      "Collecting pytz>=2020.1 (from pandas)\n",
      "  Using cached pytz-2024.1-py2.py3-none-any.whl.metadata (22 kB)\n",
      "Collecting tzdata>=2022.7 (from pandas)\n",
      "  Using cached tzdata-2024.1-py2.py3-none-any.whl.metadata (1.4 kB)\n",
      "Requirement already satisfied: six>=1.5 in c:\\users\\kings\\appdata\\roaming\\python\\python312\\site-packages (from python-dateutil>=2.8.2->pandas) (1.16.0)\n",
      "Using cached pandas-2.2.1-cp312-cp312-win_amd64.whl (11.5 MB)\n",
      "Using cached numpy-1.26.4-cp312-cp312-win_amd64.whl (15.5 MB)\n",
      "Using cached pytz-2024.1-py2.py3-none-any.whl (505 kB)\n",
      "Using cached tzdata-2024.1-py2.py3-none-any.whl (345 kB)\n",
      "Installing collected packages: pytz, tzdata, numpy, pandas\n",
      "Successfully installed numpy-1.26.4 pandas-2.2.1 pytz-2024.1 tzdata-2024.1\n"
     ]
    }
   ],
   "source": [
    "%pip install pandas"
   ]
  },
  {
   "attachments": {},
   "cell_type": "markdown",
   "metadata": {},
   "source": [
    "##### 2. Write a command to install a specific version (2.1.1) of pandas.\n",
    "\n",
    "Note: Sometimes, you might need to work with a specific version of pandas due to compatibility issues with other libraries or specific features available in that version"
   ]
  },
  {
   "cell_type": "code",
   "execution_count": 2,
   "metadata": {},
   "outputs": [
    {
     "name": "stdout",
     "output_type": "stream",
     "text": [
      "Note: you may need to restart the kernel to use updated packages.Defaulting to user installation because normal site-packages is not writeable\n",
      "\n"
     ]
    },
    {
     "name": "stderr",
     "output_type": "stream",
     "text": [
      "ERROR: Invalid requirement: 'pandas=2.1.1'\n",
      "Hint: = is not a valid operator. Did you mean == ?\n"
     ]
    }
   ],
   "source": [
    "%pip install pandas=2.1.1"
   ]
  },
  {
   "attachments": {},
   "cell_type": "markdown",
   "metadata": {},
   "source": [
    "##### 3. Write a command to import the pandas library as ‘pd’.\n",
    "\n",
    "Note: It’s a common convention to import pandas as pd. This makes your code shorter and more readable."
   ]
  },
  {
   "cell_type": "code",
   "execution_count": 3,
   "metadata": {},
   "outputs": [],
   "source": [
    "import pandas as pd"
   ]
  },
  {
   "attachments": {},
   "cell_type": "markdown",
   "metadata": {},
   "source": [
    "##### 4. Write a command to create a pandas Series named ‘fruits’ with the values [‘apple’, ‘banana’, ‘cherry’].\n",
    "\n",
    "Note: A Series is a one-dimensional labeled array capable of holding any data type. It is one of the basic structures in pandas.\n"
   ]
  },
  {
   "cell_type": "code",
   "execution_count": 10,
   "metadata": {},
   "outputs": [],
   "source": [
    "data = ['apple', 'banana', 'cherry']\n",
    "\n",
    "fruits = pd.Series(data, name=\"Fruits\")\n"
   ]
  },
  {
   "attachments": {},
   "cell_type": "markdown",
   "metadata": {},
   "source": [
    "##### 5. Create a DataFrame named ‘purchases’ with two columns ‘apples’ and ‘oranges’.\n",
    "\n",
    "```\n",
    "The ‘apples’ column should have the values [3, 2, 0, 1] and the ‘oranges’ column should have the values [0, 3, 7, 2].\n",
    "```\n",
    "\n",
    "Note: DataFrames are two-dimensional size-mutable, potentially heterogeneous tabular data structures with labeled axes (rows and columns). They are one of the fundamental structures in pandas."
   ]
  },
  {
   "cell_type": "code",
   "execution_count": 13,
   "metadata": {},
   "outputs": [
    {
     "data": {
      "text/plain": [
       "<bound method NDFrame.head of apples     [3, 2, 0, 1]\n",
       "oranges    [0, 3, 7, 2]\n",
       "Name: Fruits, dtype: object>"
      ]
     },
     "execution_count": 13,
     "metadata": {},
     "output_type": "execute_result"
    }
   ],
   "source": [
    "data = {\n",
    "    \"apples\" : [3,2,0,1],\n",
    "    \"oranges\" : [0,3,7,2]\n",
    "}\n",
    "fruits = pd.Series(data, name=\"Fruits\")\n"
   ]
  },
  {
   "attachments": {},
   "cell_type": "markdown",
   "metadata": {},
   "source": [
    "### Task 2 - Data Loading in Pandas"
   ]
  },
  {
   "attachments": {},
   "cell_type": "markdown",
   "metadata": {},
   "source": [
    "##### 1. Write a line of code to open the ‘employees.csv’ data file into a pandas DataFrame.\n",
    "\n",
    "```\n",
    "The employees.csv file will need to be in the same directory(folder) as the notebook, or the filepath will need to be added.\n",
    "```\n",
    "\n",
    "Note: This function is useful for loading CSV data into a pandas DataFrame, which is a two-dimensional labeled data structure with columns of potentially different types. It’s one of the most common initial steps in data analysis."
   ]
  },
  {
   "cell_type": "code",
   "execution_count": 18,
   "metadata": {},
   "outputs": [
    {
     "data": {
      "text/html": [
       "<div>\n",
       "<style scoped>\n",
       "    .dataframe tbody tr th:only-of-type {\n",
       "        vertical-align: middle;\n",
       "    }\n",
       "\n",
       "    .dataframe tbody tr th {\n",
       "        vertical-align: top;\n",
       "    }\n",
       "\n",
       "    .dataframe thead th {\n",
       "        text-align: right;\n",
       "    }\n",
       "</style>\n",
       "<table border=\"1\" class=\"dataframe\">\n",
       "  <thead>\n",
       "    <tr style=\"text-align: right;\">\n",
       "      <th></th>\n",
       "      <th>Name</th>\n",
       "      <th>Age</th>\n",
       "      <th>City</th>\n",
       "      <th>Salary</th>\n",
       "      <th>Gender</th>\n",
       "      <th>column1</th>\n",
       "      <th>State</th>\n",
       "      <th>Start Date</th>\n",
       "      <th>DateOfBirth</th>\n",
       "    </tr>\n",
       "  </thead>\n",
       "  <tbody>\n",
       "    <tr>\n",
       "      <th>138</th>\n",
       "      <td>Luis</td>\n",
       "      <td>44.0</td>\n",
       "      <td>mesa</td>\n",
       "      <td>98000.0</td>\n",
       "      <td>male</td>\n",
       "      <td>Hardin</td>\n",
       "      <td>AZ</td>\n",
       "      <td>1990-12-09</td>\n",
       "      <td>1979-10-12 14:21:44.568274</td>\n",
       "    </tr>\n",
       "    <tr>\n",
       "      <th>109</th>\n",
       "      <td>Cameron</td>\n",
       "      <td>46.0</td>\n",
       "      <td>miami</td>\n",
       "      <td>77000.0</td>\n",
       "      <td>male</td>\n",
       "      <td>Peterson</td>\n",
       "      <td>Florida</td>\n",
       "      <td>2017-10-19</td>\n",
       "      <td>1977-10-12 14:21:44.568274</td>\n",
       "    </tr>\n",
       "    <tr>\n",
       "      <th>55</th>\n",
       "      <td>colin</td>\n",
       "      <td>31.0</td>\n",
       "      <td>allentown</td>\n",
       "      <td>92000.0</td>\n",
       "      <td>other</td>\n",
       "      <td>Solomon</td>\n",
       "      <td>Pennsylvania</td>\n",
       "      <td>1988-07-08</td>\n",
       "      <td>1992-10-08 14:21:44.568274</td>\n",
       "    </tr>\n",
       "    <tr>\n",
       "      <th>118</th>\n",
       "      <td></td>\n",
       "      <td>43.0</td>\n",
       "      <td>indianapolis</td>\n",
       "      <td>68000.0</td>\n",
       "      <td>Other</td>\n",
       "      <td>Nelson</td>\n",
       "      <td>Indiana</td>\n",
       "      <td>1988-07-08</td>\n",
       "      <td>1980-10-11 14:21:44.568274</td>\n",
       "    </tr>\n",
       "    <tr>\n",
       "      <th>74</th>\n",
       "      <td>jacob</td>\n",
       "      <td>55.0</td>\n",
       "      <td>chicago</td>\n",
       "      <td>116000.0</td>\n",
       "      <td>NaN</td>\n",
       "      <td>Collins</td>\n",
       "      <td>IL</td>\n",
       "      <td>2015-10-24</td>\n",
       "      <td>1968-10-14 14:21:44.568274</td>\n",
       "    </tr>\n",
       "  </tbody>\n",
       "</table>\n",
       "</div>"
      ],
      "text/plain": [
       "          Name   Age            City    Salary   Gender     column1  \\\n",
       "138      Luis   44.0           mesa    98000.0    male      Hardin    \n",
       "109   Cameron   46.0          miami    77000.0    male    Peterson    \n",
       "55      colin   31.0      allentown    92000.0   other     Solomon    \n",
       "118             43.0   indianapolis    68000.0   Other      Nelson    \n",
       "74      jacob   55.0        chicago   116000.0      NaN    Collins    \n",
       "\n",
       "              State  Start Date                 DateOfBirth  \n",
       "138             AZ   1990-12-09  1979-10-12 14:21:44.568274  \n",
       "109        Florida   2017-10-19  1977-10-12 14:21:44.568274  \n",
       "55    Pennsylvania   1988-07-08  1992-10-08 14:21:44.568274  \n",
       "118        Indiana   1988-07-08  1980-10-11 14:21:44.568274  \n",
       "74              IL   2015-10-24  1968-10-14 14:21:44.568274  "
      ]
     },
     "execution_count": 18,
     "metadata": {},
     "output_type": "execute_result"
    }
   ],
   "source": [
    "df = pd.read_csv(\"employees.csv\")\n"
   ]
  },
  {
   "attachments": {},
   "cell_type": "markdown",
   "metadata": {},
   "source": [
    "##### 2. Write a line of code to display the first 5 rows of the DataFrame.\n",
    "\n",
    "Note: The .head(n) function is useful for quickly previewing the first n rows of your DataFrame, which can help you get a sense of your data at a glance."
   ]
  },
  {
   "cell_type": "code",
   "execution_count": 19,
   "metadata": {},
   "outputs": [
    {
     "data": {
      "text/html": [
       "<div>\n",
       "<style scoped>\n",
       "    .dataframe tbody tr th:only-of-type {\n",
       "        vertical-align: middle;\n",
       "    }\n",
       "\n",
       "    .dataframe tbody tr th {\n",
       "        vertical-align: top;\n",
       "    }\n",
       "\n",
       "    .dataframe thead th {\n",
       "        text-align: right;\n",
       "    }\n",
       "</style>\n",
       "<table border=\"1\" class=\"dataframe\">\n",
       "  <thead>\n",
       "    <tr style=\"text-align: right;\">\n",
       "      <th></th>\n",
       "      <th>Name</th>\n",
       "      <th>Age</th>\n",
       "      <th>City</th>\n",
       "      <th>Salary</th>\n",
       "      <th>Gender</th>\n",
       "      <th>column1</th>\n",
       "      <th>State</th>\n",
       "      <th>Start Date</th>\n",
       "      <th>DateOfBirth</th>\n",
       "    </tr>\n",
       "  </thead>\n",
       "  <tbody>\n",
       "    <tr>\n",
       "      <th>0</th>\n",
       "      <td>kyle</td>\n",
       "      <td>59.0</td>\n",
       "      <td>indianapolis</td>\n",
       "      <td>151000.0</td>\n",
       "      <td>Other</td>\n",
       "      <td>Raymond</td>\n",
       "      <td>Indiana</td>\n",
       "      <td>1990-12-09</td>\n",
       "      <td>1964-10-15 14:21:44.568274</td>\n",
       "    </tr>\n",
       "    <tr>\n",
       "      <th>1</th>\n",
       "      <td>Luis</td>\n",
       "      <td>31.0</td>\n",
       "      <td>Los Angeles</td>\n",
       "      <td>58000.0</td>\n",
       "      <td>NaN</td>\n",
       "      <td>Andrade</td>\n",
       "      <td>CA</td>\n",
       "      <td>1992-02-24</td>\n",
       "      <td>1992-10-08 14:21:44.568274</td>\n",
       "    </tr>\n",
       "    <tr>\n",
       "      <th>2</th>\n",
       "      <td>katherine</td>\n",
       "      <td>46.0</td>\n",
       "      <td>Naperville</td>\n",
       "      <td>146000.0</td>\n",
       "      <td>female</td>\n",
       "      <td>Gutierrez</td>\n",
       "      <td>IL</td>\n",
       "      <td>21-12-2015</td>\n",
       "      <td>1977-10-12 14:21:44.568274</td>\n",
       "    </tr>\n",
       "    <tr>\n",
       "      <th>3</th>\n",
       "      <td>robert</td>\n",
       "      <td>25.0</td>\n",
       "      <td>pittsburgh</td>\n",
       "      <td>66000.0</td>\n",
       "      <td>Male</td>\n",
       "      <td>Yates</td>\n",
       "      <td>Pennsylvania</td>\n",
       "      <td>1993-01-25</td>\n",
       "      <td>1998-10-07 14:21:44.568274</td>\n",
       "    </tr>\n",
       "    <tr>\n",
       "      <th>4</th>\n",
       "      <td>austin</td>\n",
       "      <td>49.0</td>\n",
       "      <td>Naperville</td>\n",
       "      <td>96000.0</td>\n",
       "      <td>NaN</td>\n",
       "      <td>Turner</td>\n",
       "      <td>IL</td>\n",
       "      <td>20-09-1979</td>\n",
       "      <td>1974-10-13 14:21:44.568274</td>\n",
       "    </tr>\n",
       "  </tbody>\n",
       "</table>\n",
       "</div>"
      ],
      "text/plain": [
       "          Name   Age            City    Salary    Gender      column1  \\\n",
       "0        kyle   59.0   indianapolis   151000.0    Other      Raymond    \n",
       "1        Luis   31.0    Los Angeles    58000.0       NaN     Andrade    \n",
       "2   katherine   46.0     Naperville   146000.0   female    Gutierrez    \n",
       "3      robert   25.0     pittsburgh    66000.0     Male        Yates    \n",
       "4      austin   49.0     Naperville    96000.0       NaN      Turner    \n",
       "\n",
       "            State    Start Date                 DateOfBirth  \n",
       "0        Indiana     1990-12-09  1964-10-15 14:21:44.568274  \n",
       "1             CA     1992-02-24  1992-10-08 14:21:44.568274  \n",
       "2             IL    21-12-2015   1977-10-12 14:21:44.568274  \n",
       "3   Pennsylvania     1993-01-25  1998-10-07 14:21:44.568274  \n",
       "4             IL    20-09-1979   1974-10-13 14:21:44.568274  "
      ]
     },
     "execution_count": 19,
     "metadata": {},
     "output_type": "execute_result"
    }
   ],
   "source": [
    "df.head()"
   ]
  },
  {
   "attachments": {},
   "cell_type": "markdown",
   "metadata": {},
   "source": [
    "##### 3. Write a line of code to display the last 3 rows of the DataFrame.\n",
    "\n",
    "Note: The .tail(n) function is useful for quickly viewing the last n rows of your DataFrame. This can be particularly helpful when you want to see the most recent entries in a time-series dataset."
   ]
  },
  {
   "cell_type": "code",
   "execution_count": 20,
   "metadata": {},
   "outputs": [
    {
     "data": {
      "text/html": [
       "<div>\n",
       "<style scoped>\n",
       "    .dataframe tbody tr th:only-of-type {\n",
       "        vertical-align: middle;\n",
       "    }\n",
       "\n",
       "    .dataframe tbody tr th {\n",
       "        vertical-align: top;\n",
       "    }\n",
       "\n",
       "    .dataframe thead th {\n",
       "        text-align: right;\n",
       "    }\n",
       "</style>\n",
       "<table border=\"1\" class=\"dataframe\">\n",
       "  <thead>\n",
       "    <tr style=\"text-align: right;\">\n",
       "      <th></th>\n",
       "      <th>Name</th>\n",
       "      <th>Age</th>\n",
       "      <th>City</th>\n",
       "      <th>Salary</th>\n",
       "      <th>Gender</th>\n",
       "      <th>column1</th>\n",
       "      <th>State</th>\n",
       "      <th>Start Date</th>\n",
       "      <th>DateOfBirth</th>\n",
       "    </tr>\n",
       "  </thead>\n",
       "  <tbody>\n",
       "    <tr>\n",
       "      <th>157</th>\n",
       "      <td>Laura</td>\n",
       "      <td>28.0</td>\n",
       "      <td>Pittsburgh</td>\n",
       "      <td>53000.0</td>\n",
       "      <td>male</td>\n",
       "      <td>Jackson</td>\n",
       "      <td>Pennsylvania</td>\n",
       "      <td>1991-05-05</td>\n",
       "      <td>1995-10-08 14:21:44.568274</td>\n",
       "    </tr>\n",
       "    <tr>\n",
       "      <th>158</th>\n",
       "      <td>kiara</td>\n",
       "      <td>54.0</td>\n",
       "      <td>Tampa</td>\n",
       "      <td>33000.0</td>\n",
       "      <td>NaN</td>\n",
       "      <td>Hernandez</td>\n",
       "      <td>Florida</td>\n",
       "      <td>03-01-1985</td>\n",
       "      <td>1969-10-14 14:21:44.568274</td>\n",
       "    </tr>\n",
       "    <tr>\n",
       "      <th>159</th>\n",
       "      <td>Jennifer</td>\n",
       "      <td>38.0</td>\n",
       "      <td>san francisco</td>\n",
       "      <td>58000.0</td>\n",
       "      <td>NaN</td>\n",
       "      <td>Palmer</td>\n",
       "      <td>CA</td>\n",
       "      <td>2017-01-31</td>\n",
       "      <td>1985-10-10 14:21:44.568274</td>\n",
       "    </tr>\n",
       "  </tbody>\n",
       "</table>\n",
       "</div>"
      ],
      "text/plain": [
       "           Name   Age             City   Salary  Gender      column1  \\\n",
       "157      Laura   28.0      Pittsburgh   53000.0   male      Jackson    \n",
       "158      kiara   54.0           Tampa   33000.0     NaN   Hernandez    \n",
       "159   Jennifer   38.0   san francisco   58000.0     NaN      Palmer    \n",
       "\n",
       "              State    Start Date                 DateOfBirth  \n",
       "157   Pennsylvania     1991-05-05  1995-10-08 14:21:44.568274  \n",
       "158        Florida    03-01-1985   1969-10-14 14:21:44.568274  \n",
       "159             CA     2017-01-31  1985-10-10 14:21:44.568274  "
      ]
     },
     "execution_count": 20,
     "metadata": {},
     "output_type": "execute_result"
    }
   ],
   "source": [
    "df.tail(3)"
   ]
  },
  {
   "attachments": {},
   "cell_type": "markdown",
   "metadata": {},
   "source": [
    "##### 4. Write a line of code to randomly select 7 rows from the DataFrame.\n",
    "\n",
    "Note: The .sample(n) function is useful when you want to randomly select n rows from your DataFrame. This can be helpful for creating random samples from your data for tasks like bootstrapping or cross-validation."
   ]
  },
  {
   "cell_type": "code",
   "execution_count": 21,
   "metadata": {},
   "outputs": [
    {
     "data": {
      "text/html": [
       "<div>\n",
       "<style scoped>\n",
       "    .dataframe tbody tr th:only-of-type {\n",
       "        vertical-align: middle;\n",
       "    }\n",
       "\n",
       "    .dataframe tbody tr th {\n",
       "        vertical-align: top;\n",
       "    }\n",
       "\n",
       "    .dataframe thead th {\n",
       "        text-align: right;\n",
       "    }\n",
       "</style>\n",
       "<table border=\"1\" class=\"dataframe\">\n",
       "  <thead>\n",
       "    <tr style=\"text-align: right;\">\n",
       "      <th></th>\n",
       "      <th>Name</th>\n",
       "      <th>Age</th>\n",
       "      <th>City</th>\n",
       "      <th>Salary</th>\n",
       "      <th>Gender</th>\n",
       "      <th>column1</th>\n",
       "      <th>State</th>\n",
       "      <th>Start Date</th>\n",
       "      <th>DateOfBirth</th>\n",
       "    </tr>\n",
       "  </thead>\n",
       "  <tbody>\n",
       "    <tr>\n",
       "      <th>109</th>\n",
       "      <td>Cameron</td>\n",
       "      <td>46.0</td>\n",
       "      <td>miami</td>\n",
       "      <td>77000.0</td>\n",
       "      <td>male</td>\n",
       "      <td>Peterson</td>\n",
       "      <td>Florida</td>\n",
       "      <td>2017-10-19</td>\n",
       "      <td>1977-10-12 14:21:44.568274</td>\n",
       "    </tr>\n",
       "    <tr>\n",
       "      <th>46</th>\n",
       "      <td>Jennifer</td>\n",
       "      <td>56.0</td>\n",
       "      <td>San Francisco</td>\n",
       "      <td>68000.0</td>\n",
       "      <td>male</td>\n",
       "      <td>Cooper</td>\n",
       "      <td>CA</td>\n",
       "      <td>1999-05-26</td>\n",
       "      <td>1967-10-15 14:21:44.568274</td>\n",
       "    </tr>\n",
       "    <tr>\n",
       "      <th>66</th>\n",
       "      <td>Anne</td>\n",
       "      <td>50.0</td>\n",
       "      <td>Jacksonville</td>\n",
       "      <td>23000.0</td>\n",
       "      <td>other</td>\n",
       "      <td>Harrison</td>\n",
       "      <td>Florida</td>\n",
       "      <td>2014-04-11</td>\n",
       "      <td>1973-10-13 14:21:44.568274</td>\n",
       "    </tr>\n",
       "    <tr>\n",
       "      <th>121</th>\n",
       "      <td>courtney</td>\n",
       "      <td>20.0</td>\n",
       "      <td>Tucson</td>\n",
       "      <td>44000.0</td>\n",
       "      <td>NaN</td>\n",
       "      <td>Davis</td>\n",
       "      <td>AZ</td>\n",
       "      <td>1992-05-23</td>\n",
       "      <td>2003-10-06 14:21:44.568274</td>\n",
       "    </tr>\n",
       "    <tr>\n",
       "      <th>25</th>\n",
       "      <td>ashley</td>\n",
       "      <td>40.0</td>\n",
       "      <td>Phoenix</td>\n",
       "      <td>116000.0</td>\n",
       "      <td>NaN</td>\n",
       "      <td>White</td>\n",
       "      <td>AZ</td>\n",
       "      <td>2015-07-14</td>\n",
       "      <td>1983-10-11 14:21:44.568274</td>\n",
       "    </tr>\n",
       "    <tr>\n",
       "      <th>49</th>\n",
       "      <td>Lisa</td>\n",
       "      <td>42.0</td>\n",
       "      <td>Dallas</td>\n",
       "      <td>50000.0</td>\n",
       "      <td>Female</td>\n",
       "      <td>Carter</td>\n",
       "      <td>TX</td>\n",
       "      <td>2014-05-10</td>\n",
       "      <td>1981-10-11 14:21:44.568274</td>\n",
       "    </tr>\n",
       "    <tr>\n",
       "      <th>99</th>\n",
       "      <td>Kevin</td>\n",
       "      <td>39.0</td>\n",
       "      <td>tucson</td>\n",
       "      <td>91000.0</td>\n",
       "      <td>male</td>\n",
       "      <td>Graham</td>\n",
       "      <td>AZ</td>\n",
       "      <td>2006-07-11</td>\n",
       "      <td>1984-10-10 14:21:44.568274</td>\n",
       "    </tr>\n",
       "  </tbody>\n",
       "</table>\n",
       "</div>"
      ],
      "text/plain": [
       "           Name   Age             City    Salary    Gender     column1  \\\n",
       "109    Cameron   46.0           miami    77000.0     male    Peterson    \n",
       "46    Jennifer   56.0   San Francisco    68000.0     male      Cooper    \n",
       "66        Anne   50.0    Jacksonville    23000.0    other    Harrison    \n",
       "121   courtney   20.0          Tucson    44000.0       NaN      Davis    \n",
       "25      ashley   40.0         Phoenix   116000.0       NaN      White    \n",
       "49        Lisa   42.0          Dallas    50000.0   Female      Carter    \n",
       "99       Kevin   39.0          tucson    91000.0     male      Graham    \n",
       "\n",
       "         State  Start Date                 DateOfBirth  \n",
       "109   Florida   2017-10-19  1977-10-12 14:21:44.568274  \n",
       "46         CA   1999-05-26  1967-10-15 14:21:44.568274  \n",
       "66    Florida   2014-04-11  1973-10-13 14:21:44.568274  \n",
       "121        AZ   1992-05-23  2003-10-06 14:21:44.568274  \n",
       "25         AZ   2015-07-14  1983-10-11 14:21:44.568274  \n",
       "49         TX   2014-05-10  1981-10-11 14:21:44.568274  \n",
       "99         AZ   2006-07-11  1984-10-10 14:21:44.568274  "
      ]
     },
     "execution_count": 21,
     "metadata": {},
     "output_type": "execute_result"
    }
   ],
   "source": [
    "df.sample(7)"
   ]
  },
  {
   "attachments": {},
   "cell_type": "markdown",
   "metadata": {},
   "source": [
    "##### 5. Write a line of code to save the DataFrame back to a new CSV file named ‘new_employees.csv’.\n",
    "\n",
    "```\n",
    "df.to_csv('new_employees.csv', index=False)\n",
    "```\n",
    "\n",
    "index=False tells the function not to write the row index to file.\n",
    "\n",
    "Note: The .to_csv() function is useful for saving your DataFrame back to a CSV file. This is often used after you’ve made some modifications to your data and want to save the results for later use."
   ]
  },
  {
   "cell_type": "code",
   "execution_count": 22,
   "metadata": {},
   "outputs": [],
   "source": [
    "df.to_csv('new_employees.csv', index=False)"
   ]
  },
  {
   "attachments": {},
   "cell_type": "markdown",
   "metadata": {},
   "source": [
    "##### 6. Write a line of code to open a CSV file named ‘separator.csv’ that uses a semicolon (;) as the separator.\n",
    "\n",
    "Note: In CSV files, a separator (also known as a delimiter) is used to distinguish between different fields.\n",
    "\n",
    "The most common separator is a comma, but other characters can be used as well, such as semicolons, tabs (\\t), spaces, etc.\n",
    "\n",
    "The choice of separator can depend on the data itself (for example, if the data contains commas within fields, a different separator might be used).\n",
    "\n",
    "When reading a CSV file with pandas, you can specify the separator using the sep parameter in the read_csv function.\n",
    "\n",
    "If not specified, pandas will assume the separator is a comma.\n",
    "\n",
    "It’s important to know what separator is used in your data file to correctly load it into a DataFrame."
   ]
  },
  {
   "cell_type": "code",
   "execution_count": 24,
   "metadata": {},
   "outputs": [
    {
     "ename": "SyntaxError",
     "evalue": "invalid syntax (2044172635.py, line 1)",
     "output_type": "error",
     "traceback": [
      "\u001b[1;36m  Cell \u001b[1;32mIn[24], line 1\u001b[1;36m\u001b[0m\n\u001b[1;33m    pd.read_csv('separator.csv', sep=;)\u001b[0m\n\u001b[1;37m                                     ^\u001b[0m\n\u001b[1;31mSyntaxError\u001b[0m\u001b[1;31m:\u001b[0m invalid syntax\n"
     ]
    }
   ],
   "source": [
    "pd.read_csv('separator.csv', sep=;)"
   ]
  },
  {
   "attachments": {},
   "cell_type": "markdown",
   "metadata": {},
   "source": [
    "##### 7. Write a line of code to get the shape of the DataFrame.\n",
    "\n",
    "Note: The .shape attribute is useful for quickly finding out how many rows and columns are in your DataFrame. It returns a tuple in the format (rows, columns)."
   ]
  },
  {
   "cell_type": "code",
   "execution_count": 30,
   "metadata": {},
   "outputs": [
    {
     "data": {
      "text/plain": [
       "(160, 9)"
      ]
     },
     "execution_count": 30,
     "metadata": {},
     "output_type": "execute_result"
    }
   ],
   "source": [
    "df.shape"
   ]
  },
  {
   "attachments": {},
   "cell_type": "markdown",
   "metadata": {},
   "source": [
    "##### 8. Write a line of code to get a summary of the DataFrame’s numerical columns.\n",
    "\n",
    "Note: The .describe() function is useful for quickly generating descriptive statistics that summarize the central tendency, dispersion, and shape of a dataset’s distribution. It automatically excludes NaN values."
   ]
  },
  {
   "cell_type": "code",
   "execution_count": 31,
   "metadata": {},
   "outputs": [
    {
     "data": {
      "text/html": [
       "<div>\n",
       "<style scoped>\n",
       "    .dataframe tbody tr th:only-of-type {\n",
       "        vertical-align: middle;\n",
       "    }\n",
       "\n",
       "    .dataframe tbody tr th {\n",
       "        vertical-align: top;\n",
       "    }\n",
       "\n",
       "    .dataframe thead th {\n",
       "        text-align: right;\n",
       "    }\n",
       "</style>\n",
       "<table border=\"1\" class=\"dataframe\">\n",
       "  <thead>\n",
       "    <tr style=\"text-align: right;\">\n",
       "      <th></th>\n",
       "      <th>Age</th>\n",
       "      <th>Salary</th>\n",
       "    </tr>\n",
       "  </thead>\n",
       "  <tbody>\n",
       "    <tr>\n",
       "      <th>count</th>\n",
       "      <td>159.000000</td>\n",
       "      <td>159.000000</td>\n",
       "    </tr>\n",
       "    <tr>\n",
       "      <th>mean</th>\n",
       "      <td>40.773585</td>\n",
       "      <td>86503.144654</td>\n",
       "    </tr>\n",
       "    <tr>\n",
       "      <th>std</th>\n",
       "      <td>11.125250</td>\n",
       "      <td>40741.835280</td>\n",
       "    </tr>\n",
       "    <tr>\n",
       "      <th>min</th>\n",
       "      <td>20.000000</td>\n",
       "      <td>23000.000000</td>\n",
       "    </tr>\n",
       "    <tr>\n",
       "      <th>25%</th>\n",
       "      <td>32.000000</td>\n",
       "      <td>54000.000000</td>\n",
       "    </tr>\n",
       "    <tr>\n",
       "      <th>50%</th>\n",
       "      <td>41.000000</td>\n",
       "      <td>77000.000000</td>\n",
       "    </tr>\n",
       "    <tr>\n",
       "      <th>75%</th>\n",
       "      <td>50.000000</td>\n",
       "      <td>115000.000000</td>\n",
       "    </tr>\n",
       "    <tr>\n",
       "      <th>max</th>\n",
       "      <td>59.000000</td>\n",
       "      <td>191000.000000</td>\n",
       "    </tr>\n",
       "  </tbody>\n",
       "</table>\n",
       "</div>"
      ],
      "text/plain": [
       "              Age         Salary\n",
       "count  159.000000     159.000000\n",
       "mean    40.773585   86503.144654\n",
       "std     11.125250   40741.835280\n",
       "min     20.000000   23000.000000\n",
       "25%     32.000000   54000.000000\n",
       "50%     41.000000   77000.000000\n",
       "75%     50.000000  115000.000000\n",
       "max     59.000000  191000.000000"
      ]
     },
     "execution_count": 31,
     "metadata": {},
     "output_type": "execute_result"
    }
   ],
   "source": [
    "df.describe()"
   ]
  },
  {
   "attachments": {},
   "cell_type": "markdown",
   "metadata": {},
   "source": [
    "##### 9. Write a line of code to get a concise summary of the DataFrame.\n",
    "\n",
    "Note: The .info() function is useful for getting a quick description of the data, especially the total number of non-null observations and the data type of each column."
   ]
  },
  {
   "cell_type": "code",
   "execution_count": 32,
   "metadata": {},
   "outputs": [
    {
     "name": "stdout",
     "output_type": "stream",
     "text": [
      "<class 'pandas.core.frame.DataFrame'>\n",
      "RangeIndex: 160 entries, 0 to 159\n",
      "Data columns (total 9 columns):\n",
      " #   Column       Non-Null Count  Dtype  \n",
      "---  ------       --------------  -----  \n",
      " 0   Name         160 non-null    object \n",
      " 1   Age          159 non-null    float64\n",
      " 2   City         156 non-null    object \n",
      " 3   Salary       159 non-null    float64\n",
      " 4   Gender       118 non-null    object \n",
      " 5   column1      158 non-null    object \n",
      " 6   State        156 non-null    object \n",
      " 7   Start Date   158 non-null    object \n",
      " 8   DateOfBirth  160 non-null    object \n",
      "dtypes: float64(2), object(7)\n",
      "memory usage: 11.4+ KB\n"
     ]
    }
   ],
   "source": [
    "df.info()"
   ]
  },
  {
   "attachments": {},
   "cell_type": "markdown",
   "metadata": {},
   "source": [
    "##### 10. Write a line of code to get the number of unique values in each column.\n",
    "\n",
    "Note: The .nunique() function is useful for understanding the number of distinct values in each column. This can help identify columns with high cardinality."
   ]
  },
  {
   "cell_type": "code",
   "execution_count": 33,
   "metadata": {},
   "outputs": [
    {
     "data": {
      "text/plain": [
       "Name           129\n",
       "Age             40\n",
       "City            46\n",
       "Salary          91\n",
       "Gender           7\n",
       "column1        126\n",
       "State            9\n",
       "Start Date      30\n",
       "DateOfBirth     49\n",
       "dtype: int64"
      ]
     },
     "execution_count": 33,
     "metadata": {},
     "output_type": "execute_result"
    }
   ],
   "source": [
    "df.nunique()"
   ]
  },
  {
   "attachments": {},
   "cell_type": "markdown",
   "metadata": {},
   "source": [
    "##### 11. Write a line of code to select all data from the ‘Age’ column.\n",
    "\n",
    "Note: Selecting a single column from your DataFrame is useful when you want to analyze or manipulate that specific column of data."
   ]
  },
  {
   "cell_type": "code",
   "execution_count": 43,
   "metadata": {},
   "outputs": [],
   "source": [
    "ages = df.Age"
   ]
  },
  {
   "attachments": {},
   "cell_type": "markdown",
   "metadata": {},
   "source": [
    "##### 12.  Write a line of code to calculate the mean age.\n",
    "\n",
    "Note: The .mode() function is used to find the most frequently occurring value(s) in a series. This can be useful when analyzing categorical data or certain types of numerical data."
   ]
  },
  {
   "cell_type": "code",
   "execution_count": 44,
   "metadata": {},
   "outputs": [
    {
     "data": {
      "text/plain": [
       "0    54.0\n",
       "Name: Age, dtype: float64"
      ]
     },
     "execution_count": 44,
     "metadata": {},
     "output_type": "execute_result"
    }
   ],
   "source": [
    "ages.mode()"
   ]
  },
  {
   "attachments": {},
   "cell_type": "markdown",
   "metadata": {},
   "source": [
    "##### 13. Write a line of code to find the median salary.\n",
    "\n",
    "Note: The .median() function is used to find the middle value in a series when it’s sorted in ascending order. This can be more informative than the mean for datasets with skewed distributions or outliers."
   ]
  },
  {
   "cell_type": "code",
   "execution_count": 53,
   "metadata": {},
   "outputs": [
    {
     "data": {
      "text/plain": [
       "Index(['Name', 'Age', 'City', 'Salary', 'Gender', 'column1', 'State',\n",
       "       'Start Date', 'DateOfBirth'],\n",
       "      dtype='object')"
      ]
     },
     "execution_count": 53,
     "metadata": {},
     "output_type": "execute_result"
    }
   ],
   "source": [
    "df.columns"
   ]
  },
  {
   "attachments": {},
   "cell_type": "markdown",
   "metadata": {},
   "source": [
    "### Task 3: Data Cleaning in Pandas"
   ]
  },
  {
   "attachments": {},
   "cell_type": "markdown",
   "metadata": {},
   "source": [
    "##### 1. Write a line of code to drop the ‘column1’ from the DataFrame.\n",
    "\n",
    "Note: The .drop() function is useful for removing rows or columns by label names and corresponding axis, or by specifying directly index or column names."
   ]
  },
  {
   "cell_type": "code",
   "execution_count": 58,
   "metadata": {},
   "outputs": [
    {
     "data": {
      "text/html": [
       "<div>\n",
       "<style scoped>\n",
       "    .dataframe tbody tr th:only-of-type {\n",
       "        vertical-align: middle;\n",
       "    }\n",
       "\n",
       "    .dataframe tbody tr th {\n",
       "        vertical-align: top;\n",
       "    }\n",
       "\n",
       "    .dataframe thead th {\n",
       "        text-align: right;\n",
       "    }\n",
       "</style>\n",
       "<table border=\"1\" class=\"dataframe\">\n",
       "  <thead>\n",
       "    <tr style=\"text-align: right;\">\n",
       "      <th></th>\n",
       "      <th>Name</th>\n",
       "      <th>Age</th>\n",
       "      <th>City</th>\n",
       "      <th>Salary</th>\n",
       "      <th>Gender</th>\n",
       "      <th>State</th>\n",
       "      <th>Start Date</th>\n",
       "      <th>DateOfBirth</th>\n",
       "    </tr>\n",
       "  </thead>\n",
       "  <tbody>\n",
       "    <tr>\n",
       "      <th>0</th>\n",
       "      <td>kyle</td>\n",
       "      <td>59.0</td>\n",
       "      <td>indianapolis</td>\n",
       "      <td>151000.0</td>\n",
       "      <td>Other</td>\n",
       "      <td>Indiana</td>\n",
       "      <td>1990-12-09</td>\n",
       "      <td>1964-10-15 14:21:44.568274</td>\n",
       "    </tr>\n",
       "    <tr>\n",
       "      <th>1</th>\n",
       "      <td>Luis</td>\n",
       "      <td>31.0</td>\n",
       "      <td>Los Angeles</td>\n",
       "      <td>58000.0</td>\n",
       "      <td>NaN</td>\n",
       "      <td>CA</td>\n",
       "      <td>1992-02-24</td>\n",
       "      <td>1992-10-08 14:21:44.568274</td>\n",
       "    </tr>\n",
       "    <tr>\n",
       "      <th>2</th>\n",
       "      <td>katherine</td>\n",
       "      <td>46.0</td>\n",
       "      <td>Naperville</td>\n",
       "      <td>146000.0</td>\n",
       "      <td>female</td>\n",
       "      <td>IL</td>\n",
       "      <td>21-12-2015</td>\n",
       "      <td>1977-10-12 14:21:44.568274</td>\n",
       "    </tr>\n",
       "    <tr>\n",
       "      <th>3</th>\n",
       "      <td>robert</td>\n",
       "      <td>25.0</td>\n",
       "      <td>pittsburgh</td>\n",
       "      <td>66000.0</td>\n",
       "      <td>Male</td>\n",
       "      <td>Pennsylvania</td>\n",
       "      <td>1993-01-25</td>\n",
       "      <td>1998-10-07 14:21:44.568274</td>\n",
       "    </tr>\n",
       "    <tr>\n",
       "      <th>4</th>\n",
       "      <td>austin</td>\n",
       "      <td>49.0</td>\n",
       "      <td>Naperville</td>\n",
       "      <td>96000.0</td>\n",
       "      <td>NaN</td>\n",
       "      <td>IL</td>\n",
       "      <td>20-09-1979</td>\n",
       "      <td>1974-10-13 14:21:44.568274</td>\n",
       "    </tr>\n",
       "  </tbody>\n",
       "</table>\n",
       "</div>"
      ],
      "text/plain": [
       "          Name   Age            City    Salary    Gender           State  \\\n",
       "0        kyle   59.0   indianapolis   151000.0    Other         Indiana    \n",
       "1        Luis   31.0    Los Angeles    58000.0       NaN             CA    \n",
       "2   katherine   46.0     Naperville   146000.0   female              IL    \n",
       "3      robert   25.0     pittsburgh    66000.0     Male    Pennsylvania    \n",
       "4      austin   49.0     Naperville    96000.0       NaN             IL    \n",
       "\n",
       "     Start Date                 DateOfBirth  \n",
       "0    1990-12-09  1964-10-15 14:21:44.568274  \n",
       "1    1992-02-24  1992-10-08 14:21:44.568274  \n",
       "2   21-12-2015   1977-10-12 14:21:44.568274  \n",
       "3    1993-01-25  1998-10-07 14:21:44.568274  \n",
       "4   20-09-1979   1974-10-13 14:21:44.568274  "
      ]
     },
     "execution_count": 58,
     "metadata": {},
     "output_type": "execute_result"
    }
   ],
   "source": [
    "df = df.drop(columns=['column1'])\n",
    "df.head()"
   ]
  },
  {
   "attachments": {},
   "cell_type": "markdown",
   "metadata": {},
   "source": [
    "##### 2. Write a line of code to fill missing values in the ‘Age’ column with the average age.\n",
    "\n",
    "```\n",
    "This demonstrates the function of the mean function and utlises imputation, but does it make sense to create an Employees age from a Mean? In this situation it would be better to request a real age for an employee from the data source, or remove that emplyee if it is histroical data.\n",
    "```\n",
    "\n",
    "Note: The .fillna() function is used to fill NA/NaN values using the specified method which can be a constant or a DataFrame method like mean, median etc."
   ]
  },
  {
   "cell_type": "code",
   "execution_count": 64,
   "metadata": {},
   "outputs": [
    {
     "data": {
      "text/html": [
       "<div>\n",
       "<style scoped>\n",
       "    .dataframe tbody tr th:only-of-type {\n",
       "        vertical-align: middle;\n",
       "    }\n",
       "\n",
       "    .dataframe tbody tr th {\n",
       "        vertical-align: top;\n",
       "    }\n",
       "\n",
       "    .dataframe thead th {\n",
       "        text-align: right;\n",
       "    }\n",
       "</style>\n",
       "<table border=\"1\" class=\"dataframe\">\n",
       "  <thead>\n",
       "    <tr style=\"text-align: right;\">\n",
       "      <th></th>\n",
       "      <th>Name</th>\n",
       "      <th>Age</th>\n",
       "      <th>City</th>\n",
       "      <th>Salary</th>\n",
       "      <th>Gender</th>\n",
       "      <th>State</th>\n",
       "      <th>Start Date</th>\n",
       "      <th>DateOfBirth</th>\n",
       "    </tr>\n",
       "  </thead>\n",
       "  <tbody>\n",
       "    <tr>\n",
       "      <th>0</th>\n",
       "      <td>kyle</td>\n",
       "      <td>59.0</td>\n",
       "      <td>indianapolis</td>\n",
       "      <td>151000.0</td>\n",
       "      <td>Other</td>\n",
       "      <td>Indiana</td>\n",
       "      <td>1990-12-09</td>\n",
       "      <td>1964-10-15 14:21:44.568274</td>\n",
       "    </tr>\n",
       "    <tr>\n",
       "      <th>1</th>\n",
       "      <td>Luis</td>\n",
       "      <td>31.0</td>\n",
       "      <td>Los Angeles</td>\n",
       "      <td>58000.0</td>\n",
       "      <td>NaN</td>\n",
       "      <td>CA</td>\n",
       "      <td>1992-02-24</td>\n",
       "      <td>1992-10-08 14:21:44.568274</td>\n",
       "    </tr>\n",
       "    <tr>\n",
       "      <th>2</th>\n",
       "      <td>katherine</td>\n",
       "      <td>46.0</td>\n",
       "      <td>Naperville</td>\n",
       "      <td>146000.0</td>\n",
       "      <td>female</td>\n",
       "      <td>IL</td>\n",
       "      <td>21-12-2015</td>\n",
       "      <td>1977-10-12 14:21:44.568274</td>\n",
       "    </tr>\n",
       "    <tr>\n",
       "      <th>3</th>\n",
       "      <td>robert</td>\n",
       "      <td>25.0</td>\n",
       "      <td>pittsburgh</td>\n",
       "      <td>66000.0</td>\n",
       "      <td>Male</td>\n",
       "      <td>Pennsylvania</td>\n",
       "      <td>1993-01-25</td>\n",
       "      <td>1998-10-07 14:21:44.568274</td>\n",
       "    </tr>\n",
       "    <tr>\n",
       "      <th>4</th>\n",
       "      <td>austin</td>\n",
       "      <td>49.0</td>\n",
       "      <td>Naperville</td>\n",
       "      <td>96000.0</td>\n",
       "      <td>NaN</td>\n",
       "      <td>IL</td>\n",
       "      <td>20-09-1979</td>\n",
       "      <td>1974-10-13 14:21:44.568274</td>\n",
       "    </tr>\n",
       "  </tbody>\n",
       "</table>\n",
       "</div>"
      ],
      "text/plain": [
       "          Name   Age            City    Salary    Gender           State  \\\n",
       "0        kyle   59.0   indianapolis   151000.0    Other         Indiana    \n",
       "1        Luis   31.0    Los Angeles    58000.0       NaN             CA    \n",
       "2   katherine   46.0     Naperville   146000.0   female              IL    \n",
       "3      robert   25.0     pittsburgh    66000.0     Male    Pennsylvania    \n",
       "4      austin   49.0     Naperville    96000.0       NaN             IL    \n",
       "\n",
       "     Start Date                 DateOfBirth  \n",
       "0    1990-12-09  1964-10-15 14:21:44.568274  \n",
       "1    1992-02-24  1992-10-08 14:21:44.568274  \n",
       "2   21-12-2015   1977-10-12 14:21:44.568274  \n",
       "3    1993-01-25  1998-10-07 14:21:44.568274  \n",
       "4   20-09-1979   1974-10-13 14:21:44.568274  "
      ]
     },
     "execution_count": 64,
     "metadata": {},
     "output_type": "execute_result"
    }
   ],
   "source": [
    "ages = df.Age\n",
    "median_age = ages.median()\n",
    "df['Age'].fillna(value=median_age, inplace=False)\n",
    "\n",
    "df.head()\n"
   ]
  },
  {
   "attachments": {},
   "cell_type": "markdown",
   "metadata": {},
   "source": [
    "##### 3. Write a line of code to drop rows with any missing values.\n",
    "\n",
    "Note: The .dropna() function is used to remove missing values. It’s useful when you want to discard any incomplete data."
   ]
  },
  {
   "cell_type": "code",
   "execution_count": 66,
   "metadata": {},
   "outputs": [],
   "source": [
    "df = df.dropna()"
   ]
  },
  {
   "attachments": {},
   "cell_type": "markdown",
   "metadata": {},
   "source": [
    "##### 4. Write a line of code to find duplicated rows.\n",
    "\n",
    "Note: The .duplicated() function returns a Boolean Series denoting duplicate rows. It’s useful when you want to identify any repeated data in your DataFrame."
   ]
  },
  {
   "cell_type": "code",
   "execution_count": 67,
   "metadata": {},
   "outputs": [
    {
     "data": {
      "text/plain": [
       "0      False\n",
       "2      False\n",
       "3      False\n",
       "5      False\n",
       "6      False\n",
       "       ...  \n",
       "151     True\n",
       "153     True\n",
       "154     True\n",
       "156     True\n",
       "157     True\n",
       "Length: 113, dtype: bool"
      ]
     },
     "execution_count": 67,
     "metadata": {},
     "output_type": "execute_result"
    }
   ],
   "source": [
    "df.duplicated()"
   ]
  },
  {
   "attachments": {},
   "cell_type": "markdown",
   "metadata": {},
   "source": [
    "##### 5. Write a line of code to drop duplicated rows.\n",
    "\n",
    "Note: The .drop_duplicates() function is used to remove duplicate rows. This is often necessary in data cleaning process to get rid of repeated information."
   ]
  },
  {
   "cell_type": "code",
   "execution_count": 71,
   "metadata": {},
   "outputs": [
    {
     "data": {
      "text/plain": [
       "0      False\n",
       "2      False\n",
       "3      False\n",
       "5      False\n",
       "6      False\n",
       "       ...  \n",
       "144    False\n",
       "145    False\n",
       "146    False\n",
       "147    False\n",
       "149    False\n",
       "Length: 108, dtype: bool"
      ]
     },
     "execution_count": 71,
     "metadata": {},
     "output_type": "execute_result"
    }
   ],
   "source": [
    "df = df.drop_duplicates()\n"
   ]
  },
  {
   "attachments": {},
   "cell_type": "markdown",
   "metadata": {},
   "source": [
    "6. Write a line of code to replace ‘Illinois’ with ‘IL’ in the ‘State’ column.\n",
    "\n",
    "Note: The .str.replace() function is used to replace a specified phrase with another specified phrase. It’s useful when you want to standardize the data in your DataFrame."
   ]
  },
  {
   "cell_type": "code",
   "execution_count": 72,
   "metadata": {},
   "outputs": [
    {
     "data": {
      "text/plain": [
       "0            Indiana \n",
       "2                 IL \n",
       "3       Pennsylvania \n",
       "5                 NY \n",
       "6            Indiana \n",
       "            ...      \n",
       "144          Indiana \n",
       "145               AZ \n",
       "146               AZ \n",
       "147     Pennsylvania \n",
       "149               AZ \n",
       "Name: State, Length: 108, dtype: object"
      ]
     },
     "execution_count": 72,
     "metadata": {},
     "output_type": "execute_result"
    }
   ],
   "source": [
    "df['State'] = df['State'].str.replace('Illinois',\"IL\")\n",
    "df['State']"
   ]
  },
  {
   "attachments": {},
   "cell_type": "markdown",
   "metadata": {},
   "source": [
    "##### 7. Write a line of code to find all rows where ‘City’ contains ‘naperville’.\n",
    "\n",
    "Note: The .str.contains() function is used to test if pattern or regex is contained within a string of a Series or Index. It’s useful when you want to filter your data based on certain text criteria."
   ]
  },
  {
   "cell_type": "code",
   "execution_count": 77,
   "metadata": {},
   "outputs": [
    {
     "data": {
      "text/plain": [
       "0       indianapolis \n",
       "2         Naperville \n",
       "3         pittsburgh \n",
       "5            Buffalo \n",
       "6         Fort Wayne \n",
       "            ...      \n",
       "144       evansville \n",
       "145           Tucson \n",
       "146             Mesa \n",
       "147        allentown \n",
       "149          Phoenix \n",
       "Name: City, Length: 108, dtype: object"
      ]
     },
     "execution_count": 77,
     "metadata": {},
     "output_type": "execute_result"
    }
   ],
   "source": [
    "contains_data = df['City'].str.contains('naperville')\n",
    "df['City']"
   ]
  },
  {
   "attachments": {},
   "cell_type": "markdown",
   "metadata": {},
   "source": [
    "##### 8. Write a line of code to standardize the ‘City’ and ‘State’ columns in the DataFrame. For ‘City’, replace ‘naperville’ with ‘Naperville’, and for ‘State’, replace ‘Illinois’ with ‘IL’.\n",
    "\n",
    "Note: The .str.replace() function is used to replace a specified phrase with another specified phrase. It’s useful when you want to standardise the data in your DataFrame. In this case, we’re using it to ensure that city and state names follow a consistent format. This is an important step in data cleaning, especially when dealing with text data, as it ensures that the same entity is represented in the same way across the dataset."
   ]
  },
  {
   "cell_type": "code",
   "execution_count": null,
   "metadata": {},
   "outputs": [],
   "source": []
  },
  {
   "attachments": {},
   "cell_type": "markdown",
   "metadata": {},
   "source": [
    "##### 9. (OPTIONAL) Write a line of code to standardize the ‘City’ and ‘State’ columns in the DataFrame.\n",
    "\n",
    "Advanced Question. Will go into more in next lesson so do not worry if you cannot complete this one now.\n",
    "\n",
    "```\n",
    "Reload employees.csv in and output solution to a DataFrame named 'city_state_corrected_df'\n",
    "\n",
    "Any Unknown city or states should be filled with an 'Unknown' string.\n",
    "\n",
    "Run the first code block to create mapping dictionaries for States and City. You can choose to use these or manually type out each state and city and what they should be\n",
    "```"
   ]
  },
  {
   "cell_type": "code",
   "execution_count": null,
   "metadata": {},
   "outputs": [],
   "source": [
    "# City to State mapping\n",
    "city_state = {\n",
    "    'New York': 'New York',\n",
    "    'Buffalo': 'New York',\n",
    "    'Rochester': 'New York',\n",
    "    'Los Angeles': 'California',\n",
    "    'San Francisco': 'California',\n",
    "    'San Diego': 'California',\n",
    "    'Houston': 'Texas',\n",
    "    'San Antonio': 'Texas',\n",
    "    'Dallas': 'Texas',\n",
    "    'Jacksonville': 'Florida',\n",
    "    'Miami': 'Florida',\n",
    "    'Tampa': 'Florida',\n",
    "    'Chicago': 'Illinois',\n",
    "    'Aurora': 'Illinois',\n",
    "    'Naperville': 'Illinois',\n",
    "    'Philadelphia': 'Pennsylvania',\n",
    "    'Pittsburgh': 'Pennsylvania',\n",
    "    'Allentown': 'Pennsylvania',\n",
    "    'Phoenix': 'Arizona',\n",
    "    'Tucson': 'Arizona',\n",
    "    'Mesa': 'Arizona',\n",
    "    'Indianapolis': 'Indiana',\n",
    "    'Fort Wayne': 'Indiana',\n",
    "    'Evansville': 'Indiana'\n",
    "}\n",
    "\n",
    "# Abbreviations for some states\n",
    "state_abbr = {\n",
    "    'New York': 'NY',\n",
    "    'California': 'CA',\n",
    "    'Texas': 'TX',\n",
    "    'Florida': 'FL',\n",
    "    'Illinois': 'IL',\n",
    "    'Pennsylvania': 'PA',\n",
    "    'Arizona': 'AZ',\n",
    "    'Indiana': 'IN'\n",
    "}"
   ]
  },
  {
   "cell_type": "code",
   "execution_count": null,
   "metadata": {},
   "outputs": [],
   "source": [
    "# read_csv the employees.csv into the correctly named DataFrame here\n",
    "import pandas as pd\n",
    "df = pd.read_csv('employees.csv')\n",
    "df.head(3)\n"
   ]
  },
  {
   "cell_type": "code",
   "execution_count": null,
   "metadata": {},
   "outputs": [],
   "source": []
  },
  {
   "attachments": {},
   "cell_type": "markdown",
   "metadata": {},
   "source": [
    "##### 10. (OPTIONAL) Perform Data Cleaning on the Gender Column."
   ]
  },
  {
   "cell_type": "code",
   "execution_count": null,
   "metadata": {},
   "outputs": [],
   "source": []
  },
  {
   "attachments": {},
   "cell_type": "markdown",
   "metadata": {},
   "source": [
    "### Task 4: Data Manipulation"
   ]
  },
  {
   "attachments": {},
   "cell_type": "markdown",
   "metadata": {},
   "source": [
    "##### 1. Write a line of code to apply a function that adds 10 to each value in the ‘Age’ column\n",
    "\n",
    "```\n",
    "A lambda function would make the code more readable here.\n",
    "```\n",
    "\n",
    "Note: The .apply() function is useful for applying a function along an axis of the DataFrame. It can be used with a lambda function, as in this case, to perform operations on each element in a column."
   ]
  },
  {
   "cell_type": "code",
   "execution_count": 80,
   "metadata": {},
   "outputs": [
    {
     "data": {
      "text/plain": [
       "62.0"
      ]
     },
     "execution_count": 80,
     "metadata": {},
     "output_type": "execute_result"
    }
   ],
   "source": [
    "df['Age'] = df['Age'].apply(lambda x: x + 10)\n",
    "df['Age'].median()"
   ]
  },
  {
   "attachments": {},
   "cell_type": "markdown",
   "metadata": {},
   "source": [
    "##### 2. Write a line of code to apply a function that converts all names in the ‘Name’ column to uppercase.\n",
    "\n",
    "Note: The .apply() function can be used with string methods to perform operations on each string in a column, e.g. .upper()."
   ]
  },
  {
   "cell_type": "code",
   "execution_count": 82,
   "metadata": {},
   "outputs": [
    {
     "data": {
      "text/plain": [
       "0            KYLE \n",
       "2       KATHERINE \n",
       "3          ROBERT \n",
       "5     CHRISTOPHER \n",
       "6        MICHELLE \n",
       "Name: Name, dtype: object"
      ]
     },
     "execution_count": 82,
     "metadata": {},
     "output_type": "execute_result"
    }
   ],
   "source": [
    "\n",
    "df['Name'] = df['Name'].apply(lambda x : x.upper())\n",
    "df['Name'].head()"
   ]
  },
  {
   "attachments": {},
   "cell_type": "markdown",
   "metadata": {},
   "source": [
    "##### 3. Write a line of code to concatenate df and df2 along rows.\n",
    "\n",
    "```\n",
    "# Creating a second DataFrame\n",
    "data2 = {\n",
    "    'Name': ['John', 'Jane'],\n",
    "    'Age': [30, 25],\n",
    "    'City': ['New York', 'Los Angeles'],\n",
    "    'Salary': [70000, 80000],\n",
    "    'Gender': ['Male', 'Female'],\n",
    "    'column1': ['Doe', 'Doe'],\n",
    "    'State': ['NY', 'CA'],\n",
    "    'Start Date': ['2010-01-01', '2012-07-01'],\n",
    "    'DateOfBirth': ['1990-01-01', '1997-07-01']\n",
    "}\n",
    "df2 = pd.DataFrame(data2)\n",
    "```\n",
    "\n",
    "Note: The pd.concat() function is useful for concatenating two or more pandas objects along a particular axis. By default, it concatenates along rows (i.e., axis=0). This is often used when you want to append rows from one DataFrame to another."
   ]
  },
  {
   "cell_type": "code",
   "execution_count": 83,
   "metadata": {},
   "outputs": [
    {
     "data": {
      "text/html": [
       "<div>\n",
       "<style scoped>\n",
       "    .dataframe tbody tr th:only-of-type {\n",
       "        vertical-align: middle;\n",
       "    }\n",
       "\n",
       "    .dataframe tbody tr th {\n",
       "        vertical-align: top;\n",
       "    }\n",
       "\n",
       "    .dataframe thead th {\n",
       "        text-align: right;\n",
       "    }\n",
       "</style>\n",
       "<table border=\"1\" class=\"dataframe\">\n",
       "  <thead>\n",
       "    <tr style=\"text-align: right;\">\n",
       "      <th></th>\n",
       "      <th>Name</th>\n",
       "      <th>Age</th>\n",
       "      <th>City</th>\n",
       "      <th>Salary</th>\n",
       "      <th>Gender</th>\n",
       "      <th>column1</th>\n",
       "      <th>State</th>\n",
       "      <th>Start Date</th>\n",
       "      <th>DateOfBirth</th>\n",
       "    </tr>\n",
       "  </thead>\n",
       "  <tbody>\n",
       "    <tr>\n",
       "      <th>0</th>\n",
       "      <td>joseph</td>\n",
       "      <td>44.0</td>\n",
       "      <td>naperville</td>\n",
       "      <td>105000.0</td>\n",
       "      <td>other</td>\n",
       "      <td>Holmes</td>\n",
       "      <td>Illinois</td>\n",
       "      <td>2014-10-16</td>\n",
       "      <td>1979-10-12</td>\n",
       "    </tr>\n",
       "    <tr>\n",
       "      <th>1</th>\n",
       "      <td>Joshua</td>\n",
       "      <td>NaN</td>\n",
       "      <td>aurora</td>\n",
       "      <td>154000.0</td>\n",
       "      <td>None</td>\n",
       "      <td>Young</td>\n",
       "      <td>Illinois</td>\n",
       "      <td>2002-05-06</td>\n",
       "      <td>2023-05-21</td>\n",
       "    </tr>\n",
       "    <tr>\n",
       "      <th>2</th>\n",
       "      <td>yvonne</td>\n",
       "      <td>49.0</td>\n",
       "      <td>None</td>\n",
       "      <td>35000.0</td>\n",
       "      <td>Female</td>\n",
       "      <td>Martin</td>\n",
       "      <td>None</td>\n",
       "      <td>1994</td>\n",
       "      <td>1974-10-13 00:00:00</td>\n",
       "    </tr>\n",
       "    <tr>\n",
       "      <th>3</th>\n",
       "      <td>nicole</td>\n",
       "      <td>27.0</td>\n",
       "      <td>Rochester</td>\n",
       "      <td>54000.0</td>\n",
       "      <td>Other</td>\n",
       "      <td>Zuniga</td>\n",
       "      <td>New York</td>\n",
       "      <td>1999-05-21</td>\n",
       "      <td>1996-10-07</td>\n",
       "    </tr>\n",
       "    <tr>\n",
       "      <th>4</th>\n",
       "      <td>Adam</td>\n",
       "      <td>47.0</td>\n",
       "      <td>fort wayne</td>\n",
       "      <td>72000.0</td>\n",
       "      <td>None</td>\n",
       "      <td>Ramirez</td>\n",
       "      <td>IN</td>\n",
       "      <td>2021-04-10</td>\n",
       "      <td>1976-10-12</td>\n",
       "    </tr>\n",
       "  </tbody>\n",
       "</table>\n",
       "</div>"
      ],
      "text/plain": [
       "     Name   Age        City    Salary  Gender  column1     State  Start Date  \\\n",
       "0  joseph  44.0  naperville  105000.0   other   Holmes  Illinois  2014-10-16   \n",
       "1  Joshua   NaN      aurora  154000.0    None    Young  Illinois  2002-05-06   \n",
       "2  yvonne  49.0        None   35000.0  Female   Martin      None        1994   \n",
       "3  nicole  27.0   Rochester   54000.0   Other   Zuniga  New York  1999-05-21   \n",
       "4    Adam  47.0  fort wayne   72000.0    None  Ramirez        IN  2021-04-10   \n",
       "\n",
       "           DateOfBirth  \n",
       "0           1979-10-12  \n",
       "1           2023-05-21  \n",
       "2  1974-10-13 00:00:00  \n",
       "3           1996-10-07  \n",
       "4           1976-10-12  "
      ]
     },
     "execution_count": 83,
     "metadata": {},
     "output_type": "execute_result"
    }
   ],
   "source": [
    "import pandas as pd\n",
    "\n",
    "# Define the dataframe 1\n",
    "data = {\n",
    "    'Name': ['joseph', 'Joshua', 'yvonne', 'nicole', 'Adam'],\n",
    "    'Age': [44.0, None, 49.0, 27.0, 47.0],\n",
    "    'City': ['naperville', 'aurora', None, 'Rochester', 'fort wayne'],\n",
    "    'Salary': [105000.0, 154000.0, 35000.0, 54000.0, 72000.0],\n",
    "    'Gender': ['other', None, 'Female', 'Other', None],\n",
    "    'column1': ['Holmes', 'Young', 'Martin', 'Zuniga', 'Ramirez'],\n",
    "    'State': ['Illinois', 'Illinois', None, 'New York', 'IN'],\n",
    "    'Start Date': ['2014-10-16', '2002-05-06', '1994', '1999-05-21', '2021-04-10'],\n",
    "    'DateOfBirth': ['1979-10-12', '2023-05-21', '1974-10-13 00:00:00', '1996-10-07', '1976-10-12']\n",
    "}\n",
    "\n",
    "# Convert the dictionary into a DataFrame\n",
    "df = pd.DataFrame(data)\n",
    "df"
   ]
  },
  {
   "cell_type": "code",
   "execution_count": 84,
   "metadata": {},
   "outputs": [
    {
     "data": {
      "text/html": [
       "<div>\n",
       "<style scoped>\n",
       "    .dataframe tbody tr th:only-of-type {\n",
       "        vertical-align: middle;\n",
       "    }\n",
       "\n",
       "    .dataframe tbody tr th {\n",
       "        vertical-align: top;\n",
       "    }\n",
       "\n",
       "    .dataframe thead th {\n",
       "        text-align: right;\n",
       "    }\n",
       "</style>\n",
       "<table border=\"1\" class=\"dataframe\">\n",
       "  <thead>\n",
       "    <tr style=\"text-align: right;\">\n",
       "      <th></th>\n",
       "      <th>Name</th>\n",
       "      <th>Age</th>\n",
       "      <th>City</th>\n",
       "      <th>Salary</th>\n",
       "      <th>Gender</th>\n",
       "      <th>column1</th>\n",
       "      <th>State</th>\n",
       "      <th>Start Date</th>\n",
       "      <th>DateOfBirth</th>\n",
       "    </tr>\n",
       "  </thead>\n",
       "  <tbody>\n",
       "    <tr>\n",
       "      <th>0</th>\n",
       "      <td>John</td>\n",
       "      <td>30</td>\n",
       "      <td>New York</td>\n",
       "      <td>70000</td>\n",
       "      <td>Male</td>\n",
       "      <td>Doe</td>\n",
       "      <td>NY</td>\n",
       "      <td>2010-01-01</td>\n",
       "      <td>1990-01-01</td>\n",
       "    </tr>\n",
       "    <tr>\n",
       "      <th>1</th>\n",
       "      <td>Jane</td>\n",
       "      <td>25</td>\n",
       "      <td>Los Angeles</td>\n",
       "      <td>80000</td>\n",
       "      <td>Female</td>\n",
       "      <td>Doe</td>\n",
       "      <td>CA</td>\n",
       "      <td>2012-07-01</td>\n",
       "      <td>1997-07-01</td>\n",
       "    </tr>\n",
       "  </tbody>\n",
       "</table>\n",
       "</div>"
      ],
      "text/plain": [
       "   Name  Age         City  Salary  Gender column1 State  Start Date  \\\n",
       "0  John   30     New York   70000    Male     Doe    NY  2010-01-01   \n",
       "1  Jane   25  Los Angeles   80000  Female     Doe    CA  2012-07-01   \n",
       "\n",
       "  DateOfBirth  \n",
       "0  1990-01-01  \n",
       "1  1997-07-01  "
      ]
     },
     "execution_count": 84,
     "metadata": {},
     "output_type": "execute_result"
    }
   ],
   "source": [
    "# Creating a second DataFrame\n",
    "data2 = {\n",
    "    'Name': ['John', 'Jane'],\n",
    "    'Age': [30, 25],\n",
    "    'City': ['New York', 'Los Angeles'],\n",
    "    'Salary': [70000, 80000],\n",
    "    'Gender': ['Male', 'Female'],\n",
    "    'column1': ['Doe', 'Doe'],\n",
    "    'State': ['NY', 'CA'],\n",
    "    'Start Date': ['2010-01-01', '2012-07-01'],\n",
    "    'DateOfBirth': ['1990-01-01', '1997-07-01']\n",
    "}\n",
    "df2 = pd.DataFrame(data2)\n",
    "df2"
   ]
  },
  {
   "cell_type": "code",
   "execution_count": 87,
   "metadata": {},
   "outputs": [
    {
     "data": {
      "text/html": [
       "<div>\n",
       "<style scoped>\n",
       "    .dataframe tbody tr th:only-of-type {\n",
       "        vertical-align: middle;\n",
       "    }\n",
       "\n",
       "    .dataframe tbody tr th {\n",
       "        vertical-align: top;\n",
       "    }\n",
       "\n",
       "    .dataframe thead th {\n",
       "        text-align: right;\n",
       "    }\n",
       "</style>\n",
       "<table border=\"1\" class=\"dataframe\">\n",
       "  <thead>\n",
       "    <tr style=\"text-align: right;\">\n",
       "      <th></th>\n",
       "      <th>Name</th>\n",
       "      <th>Age</th>\n",
       "      <th>City</th>\n",
       "      <th>Salary</th>\n",
       "      <th>Gender</th>\n",
       "      <th>column1</th>\n",
       "      <th>State</th>\n",
       "      <th>Start Date</th>\n",
       "      <th>DateOfBirth</th>\n",
       "    </tr>\n",
       "  </thead>\n",
       "  <tbody>\n",
       "    <tr>\n",
       "      <th>0</th>\n",
       "      <td>joseph</td>\n",
       "      <td>44.0</td>\n",
       "      <td>naperville</td>\n",
       "      <td>105000.0</td>\n",
       "      <td>other</td>\n",
       "      <td>Holmes</td>\n",
       "      <td>Illinois</td>\n",
       "      <td>2014-10-16</td>\n",
       "      <td>1979-10-12</td>\n",
       "    </tr>\n",
       "    <tr>\n",
       "      <th>1</th>\n",
       "      <td>Joshua</td>\n",
       "      <td>NaN</td>\n",
       "      <td>aurora</td>\n",
       "      <td>154000.0</td>\n",
       "      <td>None</td>\n",
       "      <td>Young</td>\n",
       "      <td>Illinois</td>\n",
       "      <td>2002-05-06</td>\n",
       "      <td>2023-05-21</td>\n",
       "    </tr>\n",
       "    <tr>\n",
       "      <th>2</th>\n",
       "      <td>yvonne</td>\n",
       "      <td>49.0</td>\n",
       "      <td>None</td>\n",
       "      <td>35000.0</td>\n",
       "      <td>Female</td>\n",
       "      <td>Martin</td>\n",
       "      <td>None</td>\n",
       "      <td>1994</td>\n",
       "      <td>1974-10-13 00:00:00</td>\n",
       "    </tr>\n",
       "    <tr>\n",
       "      <th>3</th>\n",
       "      <td>nicole</td>\n",
       "      <td>27.0</td>\n",
       "      <td>Rochester</td>\n",
       "      <td>54000.0</td>\n",
       "      <td>Other</td>\n",
       "      <td>Zuniga</td>\n",
       "      <td>New York</td>\n",
       "      <td>1999-05-21</td>\n",
       "      <td>1996-10-07</td>\n",
       "    </tr>\n",
       "    <tr>\n",
       "      <th>4</th>\n",
       "      <td>Adam</td>\n",
       "      <td>47.0</td>\n",
       "      <td>fort wayne</td>\n",
       "      <td>72000.0</td>\n",
       "      <td>None</td>\n",
       "      <td>Ramirez</td>\n",
       "      <td>IN</td>\n",
       "      <td>2021-04-10</td>\n",
       "      <td>1976-10-12</td>\n",
       "    </tr>\n",
       "    <tr>\n",
       "      <th>0</th>\n",
       "      <td>John</td>\n",
       "      <td>30.0</td>\n",
       "      <td>New York</td>\n",
       "      <td>70000.0</td>\n",
       "      <td>Male</td>\n",
       "      <td>Doe</td>\n",
       "      <td>NY</td>\n",
       "      <td>2010-01-01</td>\n",
       "      <td>1990-01-01</td>\n",
       "    </tr>\n",
       "    <tr>\n",
       "      <th>1</th>\n",
       "      <td>Jane</td>\n",
       "      <td>25.0</td>\n",
       "      <td>Los Angeles</td>\n",
       "      <td>80000.0</td>\n",
       "      <td>Female</td>\n",
       "      <td>Doe</td>\n",
       "      <td>CA</td>\n",
       "      <td>2012-07-01</td>\n",
       "      <td>1997-07-01</td>\n",
       "    </tr>\n",
       "  </tbody>\n",
       "</table>\n",
       "</div>"
      ],
      "text/plain": [
       "     Name   Age         City    Salary  Gender  column1     State  Start Date  \\\n",
       "0  joseph  44.0   naperville  105000.0   other   Holmes  Illinois  2014-10-16   \n",
       "1  Joshua   NaN       aurora  154000.0    None    Young  Illinois  2002-05-06   \n",
       "2  yvonne  49.0         None   35000.0  Female   Martin      None        1994   \n",
       "3  nicole  27.0    Rochester   54000.0   Other   Zuniga  New York  1999-05-21   \n",
       "4    Adam  47.0   fort wayne   72000.0    None  Ramirez        IN  2021-04-10   \n",
       "0    John  30.0     New York   70000.0    Male      Doe        NY  2010-01-01   \n",
       "1    Jane  25.0  Los Angeles   80000.0  Female      Doe        CA  2012-07-01   \n",
       "\n",
       "           DateOfBirth  \n",
       "0           1979-10-12  \n",
       "1           2023-05-21  \n",
       "2  1974-10-13 00:00:00  \n",
       "3           1996-10-07  \n",
       "4           1976-10-12  \n",
       "0           1990-01-01  \n",
       "1           1997-07-01  "
      ]
     },
     "execution_count": 87,
     "metadata": {},
     "output_type": "execute_result"
    }
   ],
   "source": [
    "newdata = pd.concat([df, df2], axis=0)\n",
    "newdata"
   ]
  },
  {
   "attachments": {},
   "cell_type": "markdown",
   "metadata": {},
   "source": [
    "##### 4. Write a line of code to concatenate df and df2 along columns.\n",
    "\n",
    "Note: By specifying axis=1 in the pd.concat() function, you can concatenate DataFrames along columns instead of rows. This is useful when you want to add new columns to a DataFrame from another DataFrame with the same index."
   ]
  },
  {
   "cell_type": "code",
   "execution_count": 89,
   "metadata": {},
   "outputs": [
    {
     "data": {
      "text/html": [
       "<div>\n",
       "<style scoped>\n",
       "    .dataframe tbody tr th:only-of-type {\n",
       "        vertical-align: middle;\n",
       "    }\n",
       "\n",
       "    .dataframe tbody tr th {\n",
       "        vertical-align: top;\n",
       "    }\n",
       "\n",
       "    .dataframe thead th {\n",
       "        text-align: right;\n",
       "    }\n",
       "</style>\n",
       "<table border=\"1\" class=\"dataframe\">\n",
       "  <thead>\n",
       "    <tr style=\"text-align: right;\">\n",
       "      <th></th>\n",
       "      <th>Name</th>\n",
       "      <th>Age</th>\n",
       "      <th>City</th>\n",
       "      <th>Salary</th>\n",
       "      <th>Gender</th>\n",
       "      <th>column1</th>\n",
       "      <th>State</th>\n",
       "      <th>Start Date</th>\n",
       "      <th>DateOfBirth</th>\n",
       "      <th>Name</th>\n",
       "      <th>Age</th>\n",
       "      <th>City</th>\n",
       "      <th>Salary</th>\n",
       "      <th>Gender</th>\n",
       "      <th>column1</th>\n",
       "      <th>State</th>\n",
       "      <th>Start Date</th>\n",
       "      <th>DateOfBirth</th>\n",
       "    </tr>\n",
       "  </thead>\n",
       "  <tbody>\n",
       "    <tr>\n",
       "      <th>0</th>\n",
       "      <td>joseph</td>\n",
       "      <td>44.0</td>\n",
       "      <td>naperville</td>\n",
       "      <td>105000.0</td>\n",
       "      <td>other</td>\n",
       "      <td>Holmes</td>\n",
       "      <td>Illinois</td>\n",
       "      <td>2014-10-16</td>\n",
       "      <td>1979-10-12</td>\n",
       "      <td>John</td>\n",
       "      <td>30.0</td>\n",
       "      <td>New York</td>\n",
       "      <td>70000.0</td>\n",
       "      <td>Male</td>\n",
       "      <td>Doe</td>\n",
       "      <td>NY</td>\n",
       "      <td>2010-01-01</td>\n",
       "      <td>1990-01-01</td>\n",
       "    </tr>\n",
       "    <tr>\n",
       "      <th>1</th>\n",
       "      <td>Joshua</td>\n",
       "      <td>NaN</td>\n",
       "      <td>aurora</td>\n",
       "      <td>154000.0</td>\n",
       "      <td>None</td>\n",
       "      <td>Young</td>\n",
       "      <td>Illinois</td>\n",
       "      <td>2002-05-06</td>\n",
       "      <td>2023-05-21</td>\n",
       "      <td>Jane</td>\n",
       "      <td>25.0</td>\n",
       "      <td>Los Angeles</td>\n",
       "      <td>80000.0</td>\n",
       "      <td>Female</td>\n",
       "      <td>Doe</td>\n",
       "      <td>CA</td>\n",
       "      <td>2012-07-01</td>\n",
       "      <td>1997-07-01</td>\n",
       "    </tr>\n",
       "    <tr>\n",
       "      <th>2</th>\n",
       "      <td>yvonne</td>\n",
       "      <td>49.0</td>\n",
       "      <td>None</td>\n",
       "      <td>35000.0</td>\n",
       "      <td>Female</td>\n",
       "      <td>Martin</td>\n",
       "      <td>None</td>\n",
       "      <td>1994</td>\n",
       "      <td>1974-10-13 00:00:00</td>\n",
       "      <td>NaN</td>\n",
       "      <td>NaN</td>\n",
       "      <td>NaN</td>\n",
       "      <td>NaN</td>\n",
       "      <td>NaN</td>\n",
       "      <td>NaN</td>\n",
       "      <td>NaN</td>\n",
       "      <td>NaN</td>\n",
       "      <td>NaN</td>\n",
       "    </tr>\n",
       "    <tr>\n",
       "      <th>3</th>\n",
       "      <td>nicole</td>\n",
       "      <td>27.0</td>\n",
       "      <td>Rochester</td>\n",
       "      <td>54000.0</td>\n",
       "      <td>Other</td>\n",
       "      <td>Zuniga</td>\n",
       "      <td>New York</td>\n",
       "      <td>1999-05-21</td>\n",
       "      <td>1996-10-07</td>\n",
       "      <td>NaN</td>\n",
       "      <td>NaN</td>\n",
       "      <td>NaN</td>\n",
       "      <td>NaN</td>\n",
       "      <td>NaN</td>\n",
       "      <td>NaN</td>\n",
       "      <td>NaN</td>\n",
       "      <td>NaN</td>\n",
       "      <td>NaN</td>\n",
       "    </tr>\n",
       "    <tr>\n",
       "      <th>4</th>\n",
       "      <td>Adam</td>\n",
       "      <td>47.0</td>\n",
       "      <td>fort wayne</td>\n",
       "      <td>72000.0</td>\n",
       "      <td>None</td>\n",
       "      <td>Ramirez</td>\n",
       "      <td>IN</td>\n",
       "      <td>2021-04-10</td>\n",
       "      <td>1976-10-12</td>\n",
       "      <td>NaN</td>\n",
       "      <td>NaN</td>\n",
       "      <td>NaN</td>\n",
       "      <td>NaN</td>\n",
       "      <td>NaN</td>\n",
       "      <td>NaN</td>\n",
       "      <td>NaN</td>\n",
       "      <td>NaN</td>\n",
       "      <td>NaN</td>\n",
       "    </tr>\n",
       "  </tbody>\n",
       "</table>\n",
       "</div>"
      ],
      "text/plain": [
       "     Name   Age        City    Salary  Gender  column1     State  Start Date  \\\n",
       "0  joseph  44.0  naperville  105000.0   other   Holmes  Illinois  2014-10-16   \n",
       "1  Joshua   NaN      aurora  154000.0    None    Young  Illinois  2002-05-06   \n",
       "2  yvonne  49.0        None   35000.0  Female   Martin      None        1994   \n",
       "3  nicole  27.0   Rochester   54000.0   Other   Zuniga  New York  1999-05-21   \n",
       "4    Adam  47.0  fort wayne   72000.0    None  Ramirez        IN  2021-04-10   \n",
       "\n",
       "           DateOfBirth  Name   Age         City   Salary  Gender column1  \\\n",
       "0           1979-10-12  John  30.0     New York  70000.0    Male     Doe   \n",
       "1           2023-05-21  Jane  25.0  Los Angeles  80000.0  Female     Doe   \n",
       "2  1974-10-13 00:00:00   NaN   NaN          NaN      NaN     NaN     NaN   \n",
       "3           1996-10-07   NaN   NaN          NaN      NaN     NaN     NaN   \n",
       "4           1976-10-12   NaN   NaN          NaN      NaN     NaN     NaN   \n",
       "\n",
       "  State  Start Date DateOfBirth  \n",
       "0    NY  2010-01-01  1990-01-01  \n",
       "1    CA  2012-07-01  1997-07-01  \n",
       "2   NaN         NaN         NaN  \n",
       "3   NaN         NaN         NaN  \n",
       "4   NaN         NaN         NaN  "
      ]
     },
     "execution_count": 89,
     "metadata": {},
     "output_type": "execute_result"
    }
   ],
   "source": [
    "newdata = pd.concat([df, df2], axis=1)\n",
    "newdata"
   ]
  },
  {
   "attachments": {},
   "cell_type": "markdown",
   "metadata": {},
   "source": [
    "##### 5. Write a line of code to concatenate df and df2, and ignore the original index.\n",
    "\n",
    "Note: The ignore_index=True parameter in the pd.concat() function is useful when you want to ignore the original index and reset it in the resulting DataFrame. This is often used when the index does not contain any meaningful information."
   ]
  },
  {
   "cell_type": "code",
   "execution_count": 90,
   "metadata": {},
   "outputs": [
    {
     "data": {
      "text/html": [
       "<div>\n",
       "<style scoped>\n",
       "    .dataframe tbody tr th:only-of-type {\n",
       "        vertical-align: middle;\n",
       "    }\n",
       "\n",
       "    .dataframe tbody tr th {\n",
       "        vertical-align: top;\n",
       "    }\n",
       "\n",
       "    .dataframe thead th {\n",
       "        text-align: right;\n",
       "    }\n",
       "</style>\n",
       "<table border=\"1\" class=\"dataframe\">\n",
       "  <thead>\n",
       "    <tr style=\"text-align: right;\">\n",
       "      <th></th>\n",
       "      <th>Name</th>\n",
       "      <th>Age</th>\n",
       "      <th>City</th>\n",
       "      <th>Salary</th>\n",
       "      <th>Gender</th>\n",
       "      <th>column1</th>\n",
       "      <th>State</th>\n",
       "      <th>Start Date</th>\n",
       "      <th>DateOfBirth</th>\n",
       "    </tr>\n",
       "  </thead>\n",
       "  <tbody>\n",
       "    <tr>\n",
       "      <th>0</th>\n",
       "      <td>joseph</td>\n",
       "      <td>44.0</td>\n",
       "      <td>naperville</td>\n",
       "      <td>105000.0</td>\n",
       "      <td>other</td>\n",
       "      <td>Holmes</td>\n",
       "      <td>Illinois</td>\n",
       "      <td>2014-10-16</td>\n",
       "      <td>1979-10-12</td>\n",
       "    </tr>\n",
       "    <tr>\n",
       "      <th>1</th>\n",
       "      <td>Joshua</td>\n",
       "      <td>NaN</td>\n",
       "      <td>aurora</td>\n",
       "      <td>154000.0</td>\n",
       "      <td>None</td>\n",
       "      <td>Young</td>\n",
       "      <td>Illinois</td>\n",
       "      <td>2002-05-06</td>\n",
       "      <td>2023-05-21</td>\n",
       "    </tr>\n",
       "    <tr>\n",
       "      <th>2</th>\n",
       "      <td>yvonne</td>\n",
       "      <td>49.0</td>\n",
       "      <td>None</td>\n",
       "      <td>35000.0</td>\n",
       "      <td>Female</td>\n",
       "      <td>Martin</td>\n",
       "      <td>None</td>\n",
       "      <td>1994</td>\n",
       "      <td>1974-10-13 00:00:00</td>\n",
       "    </tr>\n",
       "    <tr>\n",
       "      <th>3</th>\n",
       "      <td>nicole</td>\n",
       "      <td>27.0</td>\n",
       "      <td>Rochester</td>\n",
       "      <td>54000.0</td>\n",
       "      <td>Other</td>\n",
       "      <td>Zuniga</td>\n",
       "      <td>New York</td>\n",
       "      <td>1999-05-21</td>\n",
       "      <td>1996-10-07</td>\n",
       "    </tr>\n",
       "    <tr>\n",
       "      <th>4</th>\n",
       "      <td>Adam</td>\n",
       "      <td>47.0</td>\n",
       "      <td>fort wayne</td>\n",
       "      <td>72000.0</td>\n",
       "      <td>None</td>\n",
       "      <td>Ramirez</td>\n",
       "      <td>IN</td>\n",
       "      <td>2021-04-10</td>\n",
       "      <td>1976-10-12</td>\n",
       "    </tr>\n",
       "  </tbody>\n",
       "</table>\n",
       "</div>"
      ],
      "text/plain": [
       "     Name   Age        City    Salary  Gender  column1     State  Start Date  \\\n",
       "0  joseph  44.0  naperville  105000.0   other   Holmes  Illinois  2014-10-16   \n",
       "1  Joshua   NaN      aurora  154000.0    None    Young  Illinois  2002-05-06   \n",
       "2  yvonne  49.0        None   35000.0  Female   Martin      None        1994   \n",
       "3  nicole  27.0   Rochester   54000.0   Other   Zuniga  New York  1999-05-21   \n",
       "4    Adam  47.0  fort wayne   72000.0    None  Ramirez        IN  2021-04-10   \n",
       "\n",
       "           DateOfBirth  \n",
       "0           1979-10-12  \n",
       "1           2023-05-21  \n",
       "2  1974-10-13 00:00:00  \n",
       "3           1996-10-07  \n",
       "4           1976-10-12  "
      ]
     },
     "execution_count": 90,
     "metadata": {},
     "output_type": "execute_result"
    }
   ],
   "source": [
    "newdata = pd.concat([df, df2], axis=0, ignore_index=True)\n",
    "newdata.head()"
   ]
  },
  {
   "attachments": {},
   "cell_type": "markdown",
   "metadata": {},
   "source": [
    "### Task 5 (Homework): Joins"
   ]
  },
  {
   "cell_type": "code",
   "execution_count": null,
   "metadata": {},
   "outputs": [],
   "source": [
    "import pandas as pd\n",
    "\n",
    "# Create dataframes function\n",
    "\n",
    "def create_joins_df():\n",
    "    # Creating DataFrame df1\n",
    "    data1 = {\n",
    "        'ID': list(range(1, 21)),\n",
    "        'Name': ['Employee'+str(i) for i in range(1, 21)],\n",
    "        'Department': ['Sales', 'Marketing', 'HR', 'Sales', 'IT', 'Marketing', 'HR', 'IT', 'Sales', 'Marketing',\n",
    "                    'HR', 'IT', 'Sales', 'Marketing', 'HR', 'IT', 'Sales', 'Marketing', 'HR', 'IT'],\n",
    "        'Start_Date': pd.date_range(start='01-01-2020', periods=20),\n",
    "        'Salary': [i*1000 for i in range(50, 70)]\n",
    "    }\n",
    "    df1 = pd.DataFrame(data1)\n",
    "\n",
    "    # Creating DataFrame df2\n",
    "    data2 = {\n",
    "        'Identifier': list(range(11, 31)),\n",
    "        'Role': ['Role'+str(i) for i in range(11, 31)],\n",
    "        'Years_of_Experience': [i for i in range(1, 21)]\n",
    "    }\n",
    "    df2 = pd.DataFrame(data2)\n",
    "\n",
    "    return df1, df2\n",
    "\n",
    "# Run DataFrame creation function\n",
    "df1, df2 = create_joins_df()\n",
    "df1.head(5)\n",
    "df2.head(5)"
   ]
  },
  {
   "attachments": {},
   "cell_type": "markdown",
   "metadata": {},
   "source": [
    "##### 1. Write a line of code to perform an inner join of df1 and df2 on the ‘ID’ column.\n",
    "\n",
    "Note: The merge() function with how='inner' is useful for combining two DataFrames based on a common column, and only keeping rows that have matching values in both DataFrames."
   ]
  },
  {
   "cell_type": "code",
   "execution_count": null,
   "metadata": {},
   "outputs": [],
   "source": [
    "# Run DataFrame creation function\n",
    "df1, df2 = create_joins_df()\n"
   ]
  },
  {
   "attachments": {},
   "cell_type": "markdown",
   "metadata": {},
   "source": [
    "##### 2. Write a line of code to perform an outer join of df1 and df2 on the ‘ID’ column.\n",
    "\n",
    "Note: The merge() function with how='outer' is useful for combining two DataFrames based on a common column, and keeping all rows from both DataFrames."
   ]
  },
  {
   "cell_type": "code",
   "execution_count": null,
   "metadata": {},
   "outputs": [],
   "source": [
    "# Run DataFrame creation function\n",
    "df1, df2 = create_joins_df()\n"
   ]
  },
  {
   "attachments": {},
   "cell_type": "markdown",
   "metadata": {},
   "source": [
    "##### 3. Write a line of code to join df1 and df2 on different column names (‘ID’ in df1 and ‘Identifier’ in df2).\n",
    "\n",
    "Note: The merge() function with left_on and right_on parameters is useful for combining two DataFrames based on different column names."
   ]
  },
  {
   "cell_type": "code",
   "execution_count": null,
   "metadata": {},
   "outputs": [],
   "source": [
    "# Run DataFrame creation function\n",
    "df1, df2 = create_joins_df()\n"
   ]
  },
  {
   "attachments": {},
   "cell_type": "markdown",
   "metadata": {},
   "source": [
    "##### 4. Write a line of code to join df1 and df2 on their indices.\n",
    "\n",
    "Note: The join() function is useful for combining two DataFrames based on their indices."
   ]
  },
  {
   "cell_type": "code",
   "execution_count": null,
   "metadata": {},
   "outputs": [],
   "source": [
    "# Run DataFrame creation function\n",
    "df1, df2 = create_joins_df()\n"
   ]
  },
  {
   "attachments": {},
   "cell_type": "markdown",
   "metadata": {},
   "source": [
    "##### 5. Write a line of code to perform a left join of df1 and df2 on the ‘ID’ column.\n",
    "\n",
    "Note: The merge() function with how='left' is useful for combining two DataFrames based on a common column, and keeping all rows from the left DataFrame."
   ]
  },
  {
   "cell_type": "code",
   "execution_count": null,
   "metadata": {},
   "outputs": [],
   "source": [
    "# Run DataFrame creation function\n",
    "df1, df2 = create_joins_df()\n"
   ]
  },
  {
   "attachments": {},
   "cell_type": "markdown",
   "metadata": {},
   "source": [
    "##### 6. Write a line of code to perform a right join of df1 and df2 on the ‘ID’ column.\n",
    "\n",
    "Note: The merge() function with how='right' is useful for combining two DataFrames based on a common column, and keeping all rows from the right DataFrame."
   ]
  },
  {
   "cell_type": "code",
   "execution_count": null,
   "metadata": {},
   "outputs": [],
   "source": [
    "# Run DataFrame creation function\n",
    "df1, df2 = create_joins_df()\n"
   ]
  },
  {
   "attachments": {},
   "cell_type": "markdown",
   "metadata": {},
   "source": [
    "##### 7. Write a line of code to join df1 and df2 on the ‘ID’ column, where ‘ID’ is the index in df1 and a regular column in df2.\n",
    "\n",
    "Note: The combination of the .set_index() function and the .join() function is useful when you want to join two DataFrames based on an index in one DataFrame and a regular column in another DataFrame."
   ]
  },
  {
   "cell_type": "code",
   "execution_count": null,
   "metadata": {},
   "outputs": [],
   "source": [
    "# Run DataFrame creation function\n",
    "df1, df2 = create_joins_df()\n"
   ]
  },
  {
   "attachments": {},
   "cell_type": "markdown",
   "metadata": {},
   "source": [
    "##### 8. Write a line of code to join df1 and df2, where ‘ID’ is a regular column in both DataFrames, but treat it as an index only for the purpose of joining.\n",
    "\n",
    "Note: The combination of the .set_index(), .join(), and .reset_index() functions is useful when you want to join two DataFrames based on a common column, but don’t want this column to be the index in your resulting DataFrame."
   ]
  },
  {
   "cell_type": "code",
   "execution_count": null,
   "metadata": {},
   "outputs": [],
   "source": [
    "# Run DataFrame creation function\n",
    "df1, df2 = create_joins_df()\n"
   ]
  }
 ],
 "metadata": {
  "kernelspec": {
   "display_name": "Python 3",
   "language": "python",
   "name": "python3"
  },
  "language_info": {
   "codemirror_mode": {
    "name": "ipython",
    "version": 3
   },
   "file_extension": ".py",
   "mimetype": "text/x-python",
   "name": "python",
   "nbconvert_exporter": "python",
   "pygments_lexer": "ipython3",
   "version": "3.12.2"
  },
  "orig_nbformat": 4
 },
 "nbformat": 4,
 "nbformat_minor": 2
}
